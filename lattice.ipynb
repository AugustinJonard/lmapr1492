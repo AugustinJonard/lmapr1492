{
 "cells": [
  {
   "cell_type": "code",
   "execution_count": 2,
   "id": "14b63bba",
   "metadata": {},
   "outputs": [],
   "source": [
    "import numpy as np\n",
    "from mp_api.client import MPRester\n",
    "from pymatgen.core.structure import Structure\n",
    "from pymatgen.symmetry.analyzer import SpacegroupAnalyzer\n",
    "from pymatgen.core.lattice import Lattice\n",
    "from jupyter_jsmol.pymatgen import quick_view"
   ]
  },
  {
   "cell_type": "code",
   "execution_count": 3,
   "id": "86a845fd",
   "metadata": {},
   "outputs": [],
   "source": [
    "# clé API Materials Project\n",
    "mp_key = \"hbfwQnxIfLcB2CMDIPBvWEJViltnasHl\" # Clé API\n",
    "mp_id = \"mp-8145\"  # Identifiant matériau"
   ]
  },
  {
   "cell_type": "code",
   "execution_count": 4,
   "id": "dcae2c40",
   "metadata": {},
   "outputs": [
    {
     "data": {
      "application/vnd.jupyter.widget-view+json": {
       "model_id": "2db56efbf26f4f36b3a3dc8df0814d2e",
       "version_major": 2,
       "version_minor": 0
      },
      "text/plain": [
       "Retrieving MaterialsDoc documents:   0%|          | 0/1 [00:00<?, ?it/s]"
      ]
     },
     "metadata": {},
     "output_type": "display_data"
    }
   ],
   "source": [
    "# Téléchargement de la structure du matériau\n",
    "with MPRester(mp_key) as m:\n",
    "    structure = m.get_structure_by_material_id(mp_id)\n"
   ]
  },
  {
   "cell_type": "code",
   "execution_count": 5,
   "id": "40cd0522",
   "metadata": {},
   "outputs": [],
   "source": [
    "# Analyse de la symétrie\n",
    "analyzer = SpacegroupAnalyzer(structure)\n",
    "conventional_structure = analyzer.get_conventional_standard_structure()"
   ]
  },
  {
   "cell_type": "code",
   "execution_count": 6,
   "id": "0460af31",
   "metadata": {},
   "outputs": [],
   "source": [
    "# Récupération du réseau direct et réciproque\n",
    "lattice = structure.lattice\n",
    "reciprocal_lattice = lattice.reciprocal_lattice"
   ]
  },
  {
   "cell_type": "code",
   "execution_count": 7,
   "id": "4adf0e5d",
   "metadata": {},
   "outputs": [
    {
     "name": "stdout",
     "output_type": "stream",
     "text": [
      "\n",
      "Réseau direct:\n",
      "  a1 = [ 3.15761807e+00 -1.72385000e-03  5.88864998e+00]\n",
      "  a2 = [1.47784687 2.7904336  5.88864998]\n",
      "  a3 = [-2.86598000e-03 -1.72385000e-03  6.68182114e+00]\n",
      "\n",
      "Réseau réciproque:\n",
      "  a1 = [ 1.98819101e+00 -1.05419532e+00  5.80805892e-04]\n",
      "  a2 = [1.45720809e-04 2.25038530e+00 5.80641752e-04]\n",
      "  a3 = [-1.75230956 -1.05419525  0.93931666]\n"
     ]
    }
   ],
   "source": [
    "# Affichage des vecteurs de base\n",
    "def print_lattice_vectors(lattice, name):\n",
    "    print(f\"\\n{name}:\")\n",
    "    for i, vec in enumerate(lattice.matrix):\n",
    "        print(f\"  a{i+1} = {vec}\")\n",
    "\n",
    "print_lattice_vectors(lattice, \"Réseau direct\")\n",
    "print_lattice_vectors(reciprocal_lattice, \"Réseau réciproque\")"
   ]
  },
  {
   "cell_type": "code",
   "execution_count": 8,
   "id": "8ce222e7",
   "metadata": {},
   "outputs": [
    {
     "name": "stdout",
     "output_type": "stream",
     "text": [
      "\n",
      "Type de maille: rhombohedral\n",
      "Système cristallin: trigonal\n",
      "Groupe ponctuel: -3m\n"
     ]
    }
   ],
   "source": [
    "# Détermination du type de maille, du système cristallin et du groupe ponctuel\n",
    "type_de_maille = analyzer.get_lattice_type()\n",
    "systeme_cristallin = analyzer.get_crystal_system()\n",
    "groupe_ponctuel = analyzer.get_point_group_symbol()\n",
    "\n",
    "print(\"\\nType de maille:\", type_de_maille)\n",
    "print(\"Système cristallin:\", systeme_cristallin)\n",
    "print(\"Groupe ponctuel:\", groupe_ponctuel)"
   ]
  }
 ],
 "metadata": {
  "kernelspec": {
   "display_name": "Python 3 (ipykernel)",
   "language": "python",
   "name": "python3"
  },
  "language_info": {
   "codemirror_mode": {
    "name": "ipython",
    "version": 3
   },
   "file_extension": ".py",
   "mimetype": "text/x-python",
   "name": "python",
   "nbconvert_exporter": "python",
   "pygments_lexer": "ipython3",
   "version": "3.9.13"
  }
 },
 "nbformat": 4,
 "nbformat_minor": 5
}
