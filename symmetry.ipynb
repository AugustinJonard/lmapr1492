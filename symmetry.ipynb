{
 "cells": [
  {
   "cell_type": "markdown",
   "id": "fca221ec",
   "metadata": {},
   "source": [
    "## Tâche 5 : Symmetry\n",
    "Objectif : étudier l’effet de 3 éléments de symétrie différents (pas l’identité), chacun pour 1 atome différent. Repésenter-les."
   ]
  },
  {
   "cell_type": "code",
   "execution_count": 1,
   "id": "5e8255b4",
   "metadata": {},
   "outputs": [],
   "source": [
    "import numpy as np\n",
    "from pymatgen.ext.matproj import MPRester\n",
    "from pymatgen.core.operations import SymmOp\n",
    "from pymatgen.symmetry.analyzer import SpacegroupAnalyzer\n",
    "from jupyter_jsmol.pymatgen import quick_view\n",
    "from IPython.display import display, Math"
   ]
  },
  {
   "cell_type": "code",
   "execution_count": 2,
   "id": "63a6eea1",
   "metadata": {},
   "outputs": [],
   "source": [
    "# clé API Materials Project\n",
    "mp_key = \"hbfwQnxIfLcB2CMDIPBvWEJViltnasHl\" # Clé API\n",
    "mp_id = \"mp-8145\"  # Identifiant matériau"
   ]
  },
  {
   "cell_type": "code",
   "execution_count": 3,
   "id": "0c37422e",
   "metadata": {},
   "outputs": [
    {
     "data": {
      "application/vnd.jupyter.widget-view+json": {
       "model_id": "88127ac34c4a4837bb70966e0d1ba940",
       "version_major": 2,
       "version_minor": 0
      },
      "text/plain": [
       "Retrieving MaterialsDoc documents:   0%|          | 0/1 [00:00<?, ?it/s]"
      ]
     },
     "metadata": {},
     "output_type": "display_data"
    }
   ],
   "source": [
    "# Téléchargement de la structure du matériau\n",
    "with MPRester(mp_key) as m:\n",
    "    structure = m.get_structure_by_material_id(mp_id)"
   ]
  },
  {
   "cell_type": "code",
   "execution_count": 4,
   "id": "4655d3f0",
   "metadata": {},
   "outputs": [],
   "source": [
    "# Analyse de symétrie\n",
    "analyzer = SpacegroupAnalyzer(structure).get_conventional_standard_structure()\n",
    "symmops = SpacegroupAnalyzer(analyzer).get_space_group_operations()\n",
    "Sites = structure.sites"
   ]
  },
  {
   "cell_type": "markdown",
   "id": "0011dd2e",
   "metadata": {},
   "source": [
    "## Représentation du RbScO2 dans la maille conventionnelle\n"
   ]
  },
  {
   "cell_type": "code",
   "execution_count": 5,
   "id": "5b4be549",
   "metadata": {
    "scrolled": true
   },
   "outputs": [
    {
     "data": {
      "application/vnd.jupyter.widget-view+json": {
       "model_id": "a3206100342b40048aba81e1379b377e",
       "version_major": 2,
       "version_minor": 0
      },
      "text/plain": [
       "JsmolView(layout=Layout(align_self='stretch', height='400px'))"
      ]
     },
     "metadata": {},
     "output_type": "display_data"
    }
   ],
   "source": [
    "view = quick_view(structure, \"packed\", conventional = True)\n",
    "display(view)"
   ]
  },
  {
   "cell_type": "markdown",
   "id": "d5bf2c88",
   "metadata": {},
   "source": [
    "## Opérations de symétries\n",
    "On retrouve ci-dessous 3 éléments de symétries, chacun pour un atome différent. Chaque symétrie est définie par sa matrice de rotation (rot) et un vecteur de translation (tau). "
   ]
  },
  {
   "cell_type": "markdown",
   "id": "4dfadce2",
   "metadata": {},
   "source": [
    "### Symétrie 1 : inversion sur Sc\n",
    "Cette opération est de deuxième espèce, qui inverse donc la chiralité. On peut le vérifier en voyant que le déterminant de sa matrice associée vaut -1. Il n'y a pas de translation. On a donc comme équation :"
   ]
  },
  {
   "cell_type": "markdown",
   "id": "49c8f4be",
   "metadata": {},
   "source": [
    "$$\n",
    "\\begin{bmatrix} x & y & z \\end{bmatrix}\n",
    "\\begin{bmatrix} -1 & 0 & 0 \\\\ 0 & -1 & 0 \\\\ 0 & 0 & -1 \\end{bmatrix}\n",
    "=\n",
    "\\begin{bmatrix} -x & -y & -z \\end{bmatrix}\n",
    "$$"
   ]
  },
  {
   "cell_type": "code",
   "execution_count": 6,
   "id": "62316171",
   "metadata": {},
   "outputs": [
    {
     "name": "stdout",
     "output_type": "stream",
     "text": [
      "\n",
      "Matrice de rotation (Rot) et vecteur de translation (tau):\n",
      "\n",
      "Rot:\n",
      "[[-1.  0.  0.]\n",
      " [ 0. -1.  0.]\n",
      " [ 0.  0. -1.]]\n",
      "tau\n",
      "[0. 0. 0.] \n",
      "\n",
      "Position initial de l'atome:  [0.5 0.5 0.5]\n",
      "Position de l'atome après l'application de l'élément de symétrie:  [-0.5 -0.5 -0.5]\n"
     ]
    },
    {
     "data": {
      "application/vnd.jupyter.widget-view+json": {
       "model_id": "0e2635779ecd42c58408d815def392d4",
       "version_major": 2,
       "version_minor": 0
      },
      "text/plain": [
       "JsmolView(layout=Layout(align_self='stretch', height='400px'))"
      ]
     },
     "metadata": {},
     "output_type": "display_data"
    }
   ],
   "source": [
    "i_atom = 27\n",
    "i_symmop = 1\n",
    "\n",
    "Symmetry_1 = symmops[i_symmop]\n",
    "print(\"\\nMatrice de rotation (Rot) et vecteur de translation (tau):\\n\")\n",
    "print(Symmetry_1, \"\\n\")\n",
    "pos_depart = Sites[1].frac_coords\n",
    "pos_final = Symmetry_1.operate(pos_depart)\n",
    "print(\"Position initial de l'atome: \", pos_depart)\n",
    "print(\"Position de l'atome après l'application de l'élément de symétrie: \", pos_final)\n",
    "view = quick_view(structure,conventional = True)\n",
    "display(view)\n",
    "view.script('draw SYMOP ' + str(i_symmop + 1) + ' {atomno = ' + str(i_atom) + '}')\n"
   ]
  },
  {
   "cell_type": "markdown",
   "id": "2f874883",
   "metadata": {},
   "source": [
    "### Symétrie 2 : Réflexion d'ordre 2 sur Rb\n",
    "Cette opération est de première espèce, qui inverse donc la chiralité. On peut le vérifier en voyant que le déterminant de sa matrice associée vaut -1. Il n'y a pas de translation. On a donc comme équation :"
   ]
  },
  {
   "cell_type": "markdown",
   "id": "6b1a86f8",
   "metadata": {},
   "source": [
    "$$\n",
    "\\begin{bmatrix} x & y & z \\end{bmatrix}\n",
    "\\begin{bmatrix} 0 & -1 & 0 \\\\ -1 & 0 & 0 \\\\ 0 & 0 & 1 \\end{bmatrix}\n",
    "=\n",
    "\\begin{bmatrix} -y & -x & z \\end{bmatrix}\n",
    "$$"
   ]
  },
  {
   "cell_type": "code",
   "execution_count": 7,
   "id": "5c37a5a2",
   "metadata": {},
   "outputs": [
    {
     "name": "stdout",
     "output_type": "stream",
     "text": [
      "\n",
      "Matrice de rotation (Rot) et vecteur de translation (tau):\n",
      "\n",
      "Rot:\n",
      "[[ 0. -1.  0.]\n",
      " [-1.  0.  0.]\n",
      " [ 0.  0.  1.]]\n",
      "tau\n",
      "[0. 0. 0.] \n",
      "\n",
      "Position initial de l'atome:  [-0. -0.  0.]\n",
      "Position de l'atome après l'application de l'élément de symétrie:  [0. 0. 0.]\n"
     ]
    },
    {
     "data": {
      "application/vnd.jupyter.widget-view+json": {
       "model_id": "e5638ec9a0a84736a5d5fd60258226a0",
       "version_major": 2,
       "version_minor": 0
      },
      "text/plain": [
       "JsmolView(layout=Layout(align_self='stretch', height='400px'))"
      ]
     },
     "metadata": {},
     "output_type": "display_data"
    }
   ],
   "source": [
    "i_atom = 1\n",
    "i_symmop = 7\n",
    "\n",
    "Symmetry_2 = symmops[i_symmop]\n",
    "print(\"\\nMatrice de rotation (Rot) et vecteur de translation (tau):\\n\")\n",
    "print(Symmetry_2, \"\\n\")\n",
    "pos_depart = Sites[0].frac_coords\n",
    "pos_final = Symmetry_2.operate(pos_depart)\n",
    "print(\"Position initial de l'atome: \", pos_depart)\n",
    "print(\"Position de l'atome après l'application de l'élément de symétrie: \", pos_final)\n",
    "view2 = quick_view(structure,conventional = True)\n",
    "display(view2)\n",
    "view2.script('draw SYMOP ' + str(i_symmop + 1) + ' {atomno = ' + str(i_atom) + '}')"
   ]
  },
  {
   "cell_type": "markdown",
   "id": "a25476d5",
   "metadata": {},
   "source": [
    "### Symétrie 3 : Rotation d'ordre 2 sur O2\n",
    "Cette opération est de deuxième espèce, qui conserve donc la chiralité. On peut le vérifier en voyant que le déterminant de sa matrice associée vaut 1. Il n'y a pas de translation. On a donc comme équation :"
   ]
  },
  {
   "cell_type": "markdown",
   "id": "4dde0a4b",
   "metadata": {},
   "source": [
    "$$\n",
    "\\begin{bmatrix} x & y & z \\end{bmatrix}\n",
    "\\begin{bmatrix} 1 & -1 & 0 \\\\ 0 & -1 & 0 \\\\ 0 & 0 & -1 \\end{bmatrix}\n",
    "=\n",
    "\\begin{bmatrix} x & -x-y & -z \\end{bmatrix}\n",
    "$$"
   ]
  },
  {
   "cell_type": "code",
   "execution_count": 8,
   "id": "46c49cf9",
   "metadata": {},
   "outputs": [
    {
     "name": "stdout",
     "output_type": "stream",
     "text": [
      "\n",
      "Matrice de rotation (Rot) et vecteur de translation (tau):\n",
      "\n",
      "Rot:\n",
      "[[ 1. -1.  0.]\n",
      " [ 0. -1.  0.]\n",
      " [ 0.  0. -1.]]\n",
      "tau\n",
      "[0. 0. 0.] \n",
      "\n",
      "Position initial de l'atome:  [0.77730392 0.77730392 0.77730392]\n",
      "Position de l'atome après l'application de l'élément de symétrie:  [ 0.         -0.77730392 -0.77730392]\n"
     ]
    },
    {
     "data": {
      "application/vnd.jupyter.widget-view+json": {
       "model_id": "9fe10a6fb9bf4fc887cdf1f444ff41cc",
       "version_major": 2,
       "version_minor": 0
      },
      "text/plain": [
       "JsmolView(layout=Layout(align_self='stretch', height='400px'))"
      ]
     },
     "metadata": {},
     "output_type": "display_data"
    }
   ],
   "source": [
    "i_atom = 26\n",
    "i_symmop =8\n",
    "\n",
    "Symmetry_3 = symmops[i_symmop]\n",
    "print(\"\\nMatrice de rotation (Rot) et vecteur de translation (tau):\\n\")\n",
    "print(Symmetry_3, \"\\n\")\n",
    "pos_depart = Sites[2].frac_coords\n",
    "pos_final = Symmetry_3.operate(pos_depart)\n",
    "print(\"Position initial de l'atome: \", pos_depart)\n",
    "print(\"Position de l'atome après l'application de l'élément de symétrie: \", pos_final)\n",
    "view3 = quick_view(structure,conventional = True)\n",
    "display(view3)\n",
    "view3.script('draw SYMOP ' + str(i_symmop + 1) + ' {atomno = ' + str(i_atom) + '}')"
   ]
  }
 ],
 "metadata": {
  "kernelspec": {
   "display_name": "Python 3 (ipykernel)",
   "language": "python",
   "name": "python3"
  },
  "language_info": {
   "codemirror_mode": {
    "name": "ipython",
    "version": 3
   },
   "file_extension": ".py",
   "mimetype": "text/x-python",
   "name": "python",
   "nbconvert_exporter": "python",
   "pygments_lexer": "ipython3",
   "version": "3.9.13"
  }
 },
 "nbformat": 4,
 "nbformat_minor": 5
}
